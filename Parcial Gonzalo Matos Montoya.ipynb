{
 "cells": [
  {
   "cell_type": "code",
   "execution_count": 92,
   "id": "ba09deb8",
   "metadata": {},
   "outputs": [],
   "source": [
    "import nltk\n",
    "import os\n",
    "import nltk.corpus\n",
    "import re\n",
    "import pandas as pd\n",
    "import numpy\n",
    "import spacy\n",
    "from nltk.corpus import stopwords\n",
    "from nltk.tokenize import word_tokenize\n",
    "from nltk.corpus import wordnet\n",
    "from nltk.stem import WordNetLemmatizer\n",
    "from spacy.lang.es import Spanish\n"
   ]
  },
  {
   "cell_type": "code",
   "execution_count": 93,
   "id": "5d8dd876",
   "metadata": {},
   "outputs": [
    {
     "name": "stderr",
     "output_type": "stream",
     "text": [
      "[nltk_data] Downloading package punkt to\n",
      "[nltk_data]     C:\\Users\\gonza\\AppData\\Roaming\\nltk_data...\n",
      "[nltk_data]   Package punkt is already up-to-date!\n",
      "[nltk_data] Downloading package stopwords to\n",
      "[nltk_data]     C:\\Users\\gonza\\AppData\\Roaming\\nltk_data...\n",
      "[nltk_data]   Package stopwords is already up-to-date!\n",
      "[nltk_data] Downloading package wordnet to\n",
      "[nltk_data]     C:\\Users\\gonza\\AppData\\Roaming\\nltk_data...\n",
      "[nltk_data]   Package wordnet is already up-to-date!\n"
     ]
    },
    {
     "data": {
      "text/plain": [
       "True"
      ]
     },
     "execution_count": 93,
     "metadata": {},
     "output_type": "execute_result"
    }
   ],
   "source": [
    "nltk.download ('punkt')\n",
    "nltk.download ('stopwords')\n",
    "nltk.download ('wordnet')"
   ]
  },
  {
   "cell_type": "code",
   "execution_count": 94,
   "id": "e06ab02d",
   "metadata": {},
   "outputs": [
    {
     "data": {
      "text/plain": [
       "'La CIA y la KGB se encontraron históricamente enfrentadas, ya que, en tanto organismos de inteligencia de sus respectivos estados (EEUU y Rusia respectivamente) desarrollaban tareas extraoficiales muy cuestionadas, y mantenidas bajo estricto secreto. En el contexto de la Guerra Fría, este enfrentamiento dio lugar a innumerable cantidad de hechos que, pese al esfuerzo de ambos países, tomaron estado público; estos hechos dieron lugar a una suerte de cultura por oposición en favor de uno u otro régimen político. Esto se manifestó no sólo en cuestiones de discurso ideológico, sino incluso, en corrientes artísticas que surgieron durante la post guerra.'"
      ]
     },
     "execution_count": 94,
     "metadata": {},
     "output_type": "execute_result"
    }
   ],
   "source": [
    "text=\"La CIA y la KGB se encontraron históricamente enfrentadas, ya que, en tanto organismos de inteligencia de sus respectivos estados (EEUU y Rusia respectivamente) desarrollaban tareas extraoficiales muy cuestionadas, y mantenidas bajo estricto secreto. En el contexto de la Guerra Fría, este enfrentamiento dio lugar a innumerable cantidad de hechos que, pese al esfuerzo de ambos países, tomaron estado público; estos hechos dieron lugar a una suerte de cultura por oposición en favor de uno u otro régimen político. Esto se manifestó no sólo en cuestiones de discurso ideológico, sino incluso, en corrientes artísticas que surgieron durante la post guerra.\"\n",
    "text"
   ]
  },
  {
   "cell_type": "code",
   "execution_count": 95,
   "id": "c77d0b8a",
   "metadata": {},
   "outputs": [
    {
     "data": {
      "text/plain": [
       "str"
      ]
     },
     "execution_count": 95,
     "metadata": {},
     "output_type": "execute_result"
    }
   ],
   "source": [
    "type (text)"
   ]
  },
  {
   "cell_type": "code",
   "execution_count": 96,
   "id": "d129cff3",
   "metadata": {},
   "outputs": [
    {
     "data": {
      "text/plain": [
       "['la',\n",
       " 'cia',\n",
       " 'y',\n",
       " 'la',\n",
       " 'kgb',\n",
       " 'se',\n",
       " 'encontraron',\n",
       " 'históricamente',\n",
       " 'enfrentadas',\n",
       " 'ya',\n",
       " 'que',\n",
       " 'en',\n",
       " 'tanto',\n",
       " 'organismos',\n",
       " 'de',\n",
       " 'inteligencia',\n",
       " 'de',\n",
       " 'sus',\n",
       " 'respectivos',\n",
       " 'estados',\n",
       " 'eeuu',\n",
       " 'y',\n",
       " 'rusia',\n",
       " 'respectivamente',\n",
       " 'desarrollaban',\n",
       " 'tareas',\n",
       " 'extraoficiales',\n",
       " 'muy',\n",
       " 'cuestionadas',\n",
       " 'y',\n",
       " 'mantenidas',\n",
       " 'bajo',\n",
       " 'estricto',\n",
       " 'secreto',\n",
       " 'en',\n",
       " 'el',\n",
       " 'contexto',\n",
       " 'de',\n",
       " 'la',\n",
       " 'guerra',\n",
       " 'fría',\n",
       " 'este',\n",
       " 'enfrentamiento',\n",
       " 'dio',\n",
       " 'lugar',\n",
       " 'a',\n",
       " 'innumerable',\n",
       " 'cantidad',\n",
       " 'de',\n",
       " 'hechos',\n",
       " 'que',\n",
       " 'pese',\n",
       " 'al',\n",
       " 'esfuerzo',\n",
       " 'de',\n",
       " 'ambos',\n",
       " 'países',\n",
       " 'tomaron',\n",
       " 'estado',\n",
       " 'público',\n",
       " 'estos',\n",
       " 'hechos',\n",
       " 'dieron',\n",
       " 'lugar',\n",
       " 'a',\n",
       " 'una',\n",
       " 'suerte',\n",
       " 'de',\n",
       " 'cultura',\n",
       " 'por',\n",
       " 'oposición',\n",
       " 'en',\n",
       " 'favor',\n",
       " 'de',\n",
       " 'uno',\n",
       " 'u',\n",
       " 'otro',\n",
       " 'régimen',\n",
       " 'político',\n",
       " 'esto',\n",
       " 'se',\n",
       " 'manifestó',\n",
       " 'no',\n",
       " 'sólo',\n",
       " 'en',\n",
       " 'cuestiones',\n",
       " 'de',\n",
       " 'discurso',\n",
       " 'ideológico',\n",
       " 'sino',\n",
       " 'incluso',\n",
       " 'en',\n",
       " 'corrientes',\n",
       " 'artísticas',\n",
       " 'que',\n",
       " 'surgieron',\n",
       " 'durante',\n",
       " 'la',\n",
       " 'post',\n",
       " 'guerra']"
      ]
     },
     "execution_count": 96,
     "metadata": {},
     "output_type": "execute_result"
    }
   ],
   "source": [
    "tokens = word_tokenize(text,'spanish')\n",
    "tokens=[word.lower()for word in tokens if word.isalpha()]# remueve los simbolos y pasa a minuscula\n",
    "tokens"
   ]
  },
  {
   "cell_type": "code",
   "execution_count": 97,
   "id": "f0f750f0",
   "metadata": {},
   "outputs": [
    {
     "data": {
      "text/plain": [
       "100"
      ]
     },
     "execution_count": 97,
     "metadata": {},
     "output_type": "execute_result"
    }
   ],
   "source": [
    "#contabilizando cuantas palabras lo constituyen el documento\n",
    "len (tokens)"
   ]
  },
  {
   "cell_type": "code",
   "execution_count": 98,
   "id": "2ede46ae",
   "metadata": {},
   "outputs": [
    {
     "name": "stdout",
     "output_type": "stream",
     "text": [
      "la:4\n",
      "cia:1\n",
      "y:3\n",
      "kgb:1\n",
      "se:2\n",
      "encontraron:1\n",
      "históricamente:1\n",
      "enfrentadas:1\n",
      "ya:1\n",
      "que:3\n",
      "en:5\n",
      "tanto:1\n",
      "organismos:1\n",
      "de:8\n",
      "inteligencia:1\n",
      "sus:1\n",
      "respectivos:1\n",
      "estados:1\n",
      "eeuu:1\n",
      "rusia:1\n",
      "respectivamente:1\n",
      "desarrollaban:1\n",
      "tareas:1\n",
      "extraoficiales:1\n",
      "muy:1\n",
      "cuestionadas:1\n",
      "mantenidas:1\n",
      "bajo:1\n",
      "estricto:1\n",
      "secreto:1\n",
      "el:1\n",
      "contexto:1\n",
      "guerra:2\n",
      "fría:1\n",
      "este:1\n",
      "enfrentamiento:1\n",
      "dio:1\n",
      "lugar:2\n",
      "a:2\n",
      "innumerable:1\n",
      "cantidad:1\n",
      "hechos:2\n",
      "pese:1\n",
      "al:1\n",
      "esfuerzo:1\n",
      "ambos:1\n",
      "países:1\n",
      "tomaron:1\n",
      "estado:1\n",
      "público:1\n",
      "estos:1\n",
      "dieron:1\n",
      "una:1\n",
      "suerte:1\n",
      "cultura:1\n",
      "por:1\n",
      "oposición:1\n",
      "favor:1\n",
      "uno:1\n",
      "u:1\n",
      "otro:1\n",
      "régimen:1\n",
      "político:1\n",
      "esto:1\n",
      "manifestó:1\n",
      "no:1\n",
      "sólo:1\n",
      "cuestiones:1\n",
      "discurso:1\n",
      "ideológico:1\n",
      "sino:1\n",
      "incluso:1\n",
      "corrientes:1\n",
      "artísticas:1\n",
      "surgieron:1\n",
      "durante:1\n",
      "post:1\n"
     ]
    }
   ],
   "source": [
    "#frecuencia de palabras\n",
    "frecuencia = nltk.FreqDist(tokens)\n",
    "for key,val in frecuencia.items():\n",
    "    print(str(key) + ':' + str (val))"
   ]
  },
  {
   "cell_type": "code",
   "execution_count": 99,
   "id": "8f026498",
   "metadata": {},
   "outputs": [
    {
     "name": "stdout",
     "output_type": "stream",
     "text": [
      "['cia', 'kgb', 'encontraron', 'históricamente', 'enfrentadas', 'organismos', 'inteligencia', 'respectivos', 'eeuu', 'rusia', 'respectivamente', 'desarrollaban', 'tareas', 'extraoficiales', 'cuestionadas', 'mantenidas', 'bajo', 'estricto', 'secreto', 'contexto', 'guerra', 'fría', 'enfrentamiento', 'dio', 'lugar', 'innumerable', 'cantidad', 'hechos', 'pese', 'esfuerzo', 'ambos', 'países', 'tomaron', 'público', 'hechos', 'dieron', 'lugar', 'suerte', 'cultura', 'oposición', 'favor', 'u', 'régimen', 'político', 'manifestó', 'sólo', 'cuestiones', 'discurso', 'ideológico', 'sino', 'incluso', 'corrientes', 'artísticas', 'surgieron', 'post', 'guerra']\n"
     ]
    }
   ],
   "source": [
    "#eliminar palabras de parada\n",
    "tokenslimpios= tokens[:]\n",
    "for token in tokens:\n",
    "    if token in stopwords.words('spanish'):\n",
    "        tokenslimpios.remove(token)\n",
    "print(tokenslimpios)"
   ]
  },
  {
   "cell_type": "code",
   "execution_count": 100,
   "id": "d9d95f01",
   "metadata": {},
   "outputs": [
    {
     "data": {
      "text/plain": [
       "56"
      ]
     },
     "execution_count": 100,
     "metadata": {},
     "output_type": "execute_result"
    }
   ],
   "source": [
    "#contabilizando cuantas palabras constituyen el documento sin conectores\n",
    "len (tokenslimpios)"
   ]
  },
  {
   "cell_type": "code",
   "execution_count": 101,
   "id": "49fac47b",
   "metadata": {},
   "outputs": [
    {
     "name": "stdout",
     "output_type": "stream",
     "text": [
      "cia:1\n",
      "kgb:1\n",
      "encontraron:1\n",
      "históricamente:1\n",
      "enfrentadas:1\n",
      "organismos:1\n",
      "inteligencia:1\n",
      "respectivos:1\n",
      "eeuu:1\n",
      "rusia:1\n",
      "respectivamente:1\n",
      "desarrollaban:1\n",
      "tareas:1\n",
      "extraoficiales:1\n",
      "cuestionadas:1\n",
      "mantenidas:1\n",
      "bajo:1\n",
      "estricto:1\n",
      "secreto:1\n",
      "contexto:1\n",
      "guerra:2\n",
      "fría:1\n",
      "enfrentamiento:1\n",
      "dio:1\n",
      "lugar:2\n",
      "innumerable:1\n",
      "cantidad:1\n",
      "hechos:2\n",
      "pese:1\n",
      "esfuerzo:1\n",
      "ambos:1\n",
      "países:1\n",
      "tomaron:1\n",
      "público:1\n",
      "dieron:1\n",
      "suerte:1\n",
      "cultura:1\n",
      "oposición:1\n",
      "favor:1\n",
      "u:1\n",
      "régimen:1\n",
      "político:1\n",
      "manifestó:1\n",
      "sólo:1\n",
      "cuestiones:1\n",
      "discurso:1\n",
      "ideológico:1\n",
      "sino:1\n",
      "incluso:1\n",
      "corrientes:1\n",
      "artísticas:1\n",
      "surgieron:1\n",
      "post:1\n"
     ]
    }
   ],
   "source": [
    "frecuencialimpia=nltk.FreqDist(tokenslimpios)\n",
    "for key,val in frecuencialimpia.items():\n",
    "    print(str(key) +  ':' + str (val))"
   ]
  },
  {
   "cell_type": "code",
   "execution_count": 102,
   "id": "20ed29cb",
   "metadata": {},
   "outputs": [
    {
     "data": {
      "text/plain": [
       "La CIA y la KGB se encontraron históricamente enfrentadas, ya que, en tanto organismos de inteligencia de sus respectivos estados (EEUU y Rusia respectivamente) desarrollaban tareas extraoficiales muy cuestionadas, y mantenidas bajo estricto secreto. En el contexto de la Guerra Fría, este enfrentamiento dio lugar a innumerable cantidad de hechos que, pese al esfuerzo de ambos países, tomaron estado público; estos hechos dieron lugar a una suerte de cultura por oposición en favor de uno u otro régimen político. Esto se manifestó no sólo en cuestiones de discurso ideológico, sino incluso, en corrientes artísticas que surgieron durante la post guerra."
      ]
     },
     "execution_count": 102,
     "metadata": {},
     "output_type": "execute_result"
    }
   ],
   "source": [
    "nlp = spacy.load ('es_core_news_sm')\n",
    "text1 = nlp (text)\n",
    "text1"
   ]
  },
  {
   "cell_type": "code",
   "execution_count": 126,
   "id": "1e93bb77",
   "metadata": {},
   "outputs": [
    {
     "name": "stdout",
     "output_type": "stream",
     "text": [
      "La DET\n",
      "CIA PROPN\n",
      "y CCONJ\n",
      "la DET\n",
      "KGB PROPN\n",
      "se PRON\n",
      "encontraron VERB\n",
      "históricamente ADV\n",
      "enfrentadas ADJ\n",
      ", PUNCT\n",
      "ya ADV\n",
      "que SCONJ\n",
      ", PUNCT\n",
      "en ADP\n",
      "tanto NOUN\n",
      "organismos NOUN\n",
      "de ADP\n",
      "inteligencia NOUN\n",
      "de ADP\n",
      "sus DET\n",
      "respectivos ADJ\n",
      "estados NOUN\n",
      "( PUNCT\n",
      "EEUU PROPN\n",
      "y CCONJ\n",
      "Rusia PROPN\n",
      "respectivamente ADV\n",
      ") PUNCT\n",
      "desarrollaban VERB\n",
      "tareas NOUN\n",
      "extraoficiales ADJ\n",
      "muy ADV\n",
      "cuestionadas ADJ\n",
      ", PUNCT\n",
      "y CCONJ\n",
      "mantenidas VERB\n",
      "bajo ADP\n",
      "estricto ADJ\n",
      "secreto NOUN\n",
      ". PUNCT\n",
      "En ADP\n",
      "el DET\n",
      "contexto NOUN\n",
      "de ADP\n",
      "la DET\n",
      "Guerra PROPN\n",
      "Fría NOUN\n",
      ", PUNCT\n",
      "este DET\n",
      "enfrentamiento NOUN\n",
      "dio VERB\n",
      "lugar NOUN\n",
      "a ADP\n",
      "innumerable ADJ\n",
      "cantidad NOUN\n",
      "de ADP\n",
      "hechos NOUN\n",
      "que PRON\n",
      ", PUNCT\n",
      "pese NOUN\n",
      "al ADP\n",
      "esfuerzo NOUN\n",
      "de ADP\n",
      "ambos NUM\n",
      "países NOUN\n",
      ", PUNCT\n",
      "tomaron VERB\n",
      "estado NOUN\n",
      "público ADJ\n",
      "; PUNCT\n",
      "estos DET\n",
      "hechos NOUN\n",
      "dieron VERB\n",
      "lugar NOUN\n",
      "a ADP\n",
      "una DET\n",
      "suerte NOUN\n",
      "de ADP\n",
      "cultura NOUN\n",
      "por ADP\n",
      "oposición NOUN\n",
      "en ADP\n",
      "favor NOUN\n",
      "de ADP\n",
      "uno PRON\n",
      "u CCONJ\n",
      "otro DET\n",
      "régimen NOUN\n",
      "político ADJ\n",
      ". PUNCT\n",
      "Esto PRON\n",
      "se PRON\n",
      "manifestó VERB\n",
      "no PART\n",
      "sólo ADV\n",
      "en ADP\n",
      "cuestiones NOUN\n",
      "de ADP\n",
      "discurso NOUN\n",
      "ideológico ADJ\n",
      ", PUNCT\n",
      "sino CCONJ\n",
      "incluso ADV\n",
      ", PUNCT\n",
      "en ADP\n",
      "corrientes NOUN\n",
      "artísticas ADJ\n",
      "que PRON\n",
      "surgieron VERB\n",
      "durante ADP\n",
      "la DET\n",
      "post NOUN\n",
      "guerra NOUN\n",
      ". PUNCT\n"
     ]
    }
   ],
   "source": [
    "for token in text1:\n",
    "    print (token.text,token.pos_)\n"
   ]
  },
  {
   "cell_type": "code",
   "execution_count": 123,
   "id": "5bf01f51",
   "metadata": {},
   "outputs": [
    {
     "data": {
      "text/plain": [
       "'PUNCT'"
      ]
     },
     "execution_count": 123,
     "metadata": {},
     "output_type": "execute_result"
    }
   ],
   "source": [
    "token.pos_"
   ]
  },
  {
   "cell_type": "code",
   "execution_count": 111,
   "id": "6ec2d6df",
   "metadata": {},
   "outputs": [
    {
     "name": "stdout",
     "output_type": "stream",
     "text": [
      "La DET det CIA\n",
      "CIA PROPN nsubj encontraron\n",
      "y CCONJ cc KGB\n",
      "la DET det KGB\n",
      "KGB PROPN conj CIA\n",
      "se PRON obj encontraron\n",
      "encontraron VERB ROOT encontraron\n",
      "históricamente ADV advmod encontraron\n",
      "enfrentadas ADJ obj encontraron\n",
      ", PUNCT punct desarrollaban\n",
      "ya ADV mark desarrollaban\n",
      "que SCONJ fixed ya\n",
      ", PUNCT punct organismos\n",
      "en ADP advmod organismos\n",
      "tanto NOUN fixed en\n",
      "organismos NOUN obl desarrollaban\n",
      "de ADP case inteligencia\n",
      "inteligencia NOUN nmod organismos\n",
      "de ADP case estados\n",
      "sus DET det estados\n",
      "respectivos ADJ amod estados\n",
      "estados NOUN nmod organismos\n",
      "( PUNCT punct EEUU\n",
      "EEUU PROPN appos estados\n",
      "y CCONJ cc Rusia\n",
      "Rusia PROPN conj EEUU\n",
      "respectivamente ADV advmod EEUU\n",
      ") PUNCT punct EEUU\n",
      "desarrollaban VERB advcl encontraron\n",
      "tareas NOUN obj desarrollaban\n",
      "extraoficiales ADJ amod tareas\n",
      "muy ADV advmod cuestionadas\n",
      "cuestionadas ADJ amod tareas\n",
      ", PUNCT punct mantenidas\n",
      "y CCONJ cc mantenidas\n",
      "mantenidas VERB conj desarrollaban\n",
      "bajo ADP case secreto\n",
      "estricto ADJ amod secreto\n",
      "secreto NOUN obl mantenidas\n",
      ". PUNCT punct encontraron\n",
      "En ADP case contexto\n",
      "el DET det contexto\n",
      "contexto NOUN obl dio\n",
      "de ADP case Guerra\n",
      "la DET det Guerra\n",
      "Guerra PROPN nmod contexto\n",
      "Fría NOUN compound Guerra\n",
      ", PUNCT punct contexto\n",
      "este DET det enfrentamiento\n",
      "enfrentamiento NOUN nsubj dio\n",
      "dio VERB ROOT dio\n",
      "lugar NOUN compound dio\n",
      "a ADP case cantidad\n",
      "innumerable ADJ amod cantidad\n",
      "cantidad NOUN obj dio\n",
      "de ADP case hechos\n",
      "hechos NOUN nmod cantidad\n",
      "que PRON nsubj tomaron\n",
      ", PUNCT punct esfuerzo\n",
      "pese NOUN case esfuerzo\n",
      "al ADP fixed pese\n",
      "esfuerzo NOUN obl tomaron\n",
      "de ADP case países\n",
      "ambos NUM nummod países\n",
      "países NOUN nmod esfuerzo\n",
      ", PUNCT punct esfuerzo\n",
      "tomaron VERB acl hechos\n",
      "estado NOUN obj tomaron\n",
      "público ADJ amod estado\n",
      "; PUNCT punct dio\n",
      "estos DET det hechos\n",
      "hechos NOUN nsubj dieron\n",
      "dieron VERB advcl dio\n",
      "lugar NOUN compound dieron\n",
      "a ADP case suerte\n",
      "una DET det suerte\n",
      "suerte NOUN obj dieron\n",
      "de ADP case cultura\n",
      "cultura NOUN nmod suerte\n",
      "por ADP case oposición\n",
      "oposición NOUN nmod suerte\n",
      "en ADP case uno\n",
      "favor NOUN fixed en\n",
      "de ADP fixed en\n",
      "uno PRON nmod suerte\n",
      "u CCONJ cc régimen\n",
      "otro DET det régimen\n",
      "régimen NOUN conj uno\n",
      "político ADJ amod régimen\n",
      ". PUNCT punct dio\n",
      "Esto PRON nsubj manifestó\n",
      "se PRON obj manifestó\n",
      "manifestó VERB ROOT manifestó\n",
      "no PART cc cuestiones\n",
      "sólo ADV fixed no\n",
      "en ADP case cuestiones\n",
      "cuestiones NOUN obl manifestó\n",
      "de ADP case discurso\n",
      "discurso NOUN nmod cuestiones\n",
      "ideológico ADJ amod discurso\n",
      ", PUNCT punct incluso\n",
      "sino CCONJ cc incluso\n",
      "incluso ADV conj cuestiones\n",
      ", PUNCT punct incluso\n",
      "en ADP case corrientes\n",
      "corrientes NOUN nmod incluso\n",
      "artísticas ADJ amod corrientes\n",
      "que PRON nsubj surgieron\n",
      "surgieron VERB acl corrientes\n",
      "durante ADP case post\n",
      "la DET det post\n",
      "post NOUN obl surgieron\n",
      "guerra NOUN amod post\n",
      ". PUNCT punct manifestó\n"
     ]
    }
   ],
   "source": [
    "#relacion entre los token (sirve decir si la palabra es sujeto u objeto de la oracion )\n",
    "for token in text1:\n",
    "    print (token.text,token.pos_,token.dep_,token.head.text)"
   ]
  },
  {
   "cell_type": "code",
   "execution_count": 112,
   "id": "e5929e1e",
   "metadata": {},
   "outputs": [
    {
     "name": "stdout",
     "output_type": "stream",
     "text": [
      "CIA ORG\n",
      "KGB ORG\n",
      "EEUU LOC\n",
      "Rusia LOC\n",
      "Guerra Fría MISC\n"
     ]
    }
   ],
   "source": [
    "for ent in text1.ents:\n",
    "    print (ent.text, ent.label_)"
   ]
  },
  {
   "cell_type": "code",
   "execution_count": 121,
   "id": "9e6cb361",
   "metadata": {},
   "outputs": [
    {
     "name": "stdout",
     "output_type": "stream",
     "text": [
      "CIA\n",
      "y\n",
      "la\n",
      "KGB\n",
      "se\n",
      "encontraron\n",
      "históricamente\n",
      "enfrentadas\n",
      ",\n",
      "ya\n",
      "que\n",
      ",\n",
      "en\n",
      "tanto\n",
      "organismos\n",
      "de\n",
      "inteligencia\n",
      "de\n",
      "sus\n",
      "respectivos\n",
      "estados\n",
      "(\n",
      "EEUU\n",
      "y\n",
      "Rusia\n",
      "respectivamente\n",
      ")\n",
      "desarrollaban\n",
      "tareas\n",
      "extraoficiales\n",
      "muy\n",
      "cuestionadas\n",
      ",\n",
      "y\n",
      "mantenidas\n",
      "bajo\n",
      "estricto\n",
      "secreto\n",
      ".\n",
      "el\n",
      "contexto\n",
      "de\n",
      "la\n",
      "Guerra\n",
      "Fría\n",
      ",\n",
      "este\n",
      "enfrentamiento\n",
      "dio\n",
      "lugar\n",
      "a\n",
      "innumerable\n",
      "cantidad\n",
      "de\n",
      "hechos\n",
      "que\n",
      ",\n",
      "pese\n",
      "al\n",
      "esfuerzo\n",
      "de\n",
      "ambos\n",
      "países\n",
      ",\n",
      "tomaron\n",
      "estado\n",
      "público\n",
      ";\n",
      "estos\n",
      "hechos\n",
      "dieron\n",
      "lugar\n",
      "a\n",
      "una\n",
      "suerte\n",
      "de\n",
      "cultura\n",
      "por\n",
      "oposición\n",
      "en\n",
      "favor\n",
      "de\n",
      "uno\n",
      "u\n",
      "otro\n",
      "régimen\n",
      "político\n",
      ".\n",
      "se\n",
      "manifestó\n",
      "no\n",
      "sólo\n",
      "en\n",
      "cuestiones\n",
      "de\n",
      "discurso\n",
      "ideológico\n",
      ",\n",
      "sino\n",
      "incluso\n",
      ",\n",
      "en\n",
      "corrientes\n",
      "artísticas\n",
      "que\n",
      "surgieron\n",
      "durante\n",
      "la\n",
      "post\n",
      "guerra\n",
      ".\n"
     ]
    }
   ],
   "source": [
    "for oracion in text1.sents:\n",
    "    for palabra in oracion [1:]:\n",
    "        print(palabra)\n",
    "        "
   ]
  },
  {
   "cell_type": "code",
   "execution_count": null,
   "id": "0377d7dc",
   "metadata": {},
   "outputs": [],
   "source": []
  },
  {
   "cell_type": "code",
   "execution_count": null,
   "id": "8f23470d",
   "metadata": {},
   "outputs": [],
   "source": []
  },
  {
   "cell_type": "code",
   "execution_count": null,
   "id": "9122940d",
   "metadata": {},
   "outputs": [],
   "source": []
  },
  {
   "cell_type": "code",
   "execution_count": null,
   "id": "34b53337",
   "metadata": {},
   "outputs": [],
   "source": []
  },
  {
   "cell_type": "code",
   "execution_count": null,
   "id": "1bee33bb",
   "metadata": {},
   "outputs": [],
   "source": []
  },
  {
   "cell_type": "code",
   "execution_count": null,
   "id": "ed4dd806",
   "metadata": {},
   "outputs": [],
   "source": []
  },
  {
   "cell_type": "code",
   "execution_count": null,
   "id": "f248faf9",
   "metadata": {},
   "outputs": [],
   "source": []
  }
 ],
 "metadata": {
  "kernelspec": {
   "display_name": "Python 3",
   "language": "python",
   "name": "python3"
  },
  "language_info": {
   "codemirror_mode": {
    "name": "ipython",
    "version": 3
   },
   "file_extension": ".py",
   "mimetype": "text/x-python",
   "name": "python",
   "nbconvert_exporter": "python",
   "pygments_lexer": "ipython3",
   "version": "3.8.8"
  }
 },
 "nbformat": 4,
 "nbformat_minor": 5
}
