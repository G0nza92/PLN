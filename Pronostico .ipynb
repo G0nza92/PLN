{
 "cells": [
  {
   "cell_type": "code",
   "execution_count": 1,
   "id": "7d2df377",
   "metadata": {},
   "outputs": [],
   "source": [
    "import pandas as pd\n",
    "import numpy as np\n",
    "from sklearn import linear_model\n",
    "from sklearn.neighbors import KNeighborsClassifier\n",
    "from sklearn.tree import DecisionTreeClassifier\n",
    "from sklearn.svm import SVC\n",
    "from sklearn.metrics import confusion_matrix, accuracy_score, f1_score"
   ]
  },
  {
   "cell_type": "code",
   "execution_count": 2,
   "id": "d4fcb829",
   "metadata": {},
   "outputs": [
    {
     "data": {
      "text/html": [
       "<div>\n",
       "<style scoped>\n",
       "    .dataframe tbody tr th:only-of-type {\n",
       "        vertical-align: middle;\n",
       "    }\n",
       "\n",
       "    .dataframe tbody tr th {\n",
       "        vertical-align: top;\n",
       "    }\n",
       "\n",
       "    .dataframe thead th {\n",
       "        text-align: right;\n",
       "    }\n",
       "</style>\n",
       "<table border=\"1\" class=\"dataframe\">\n",
       "  <thead>\n",
       "    <tr style=\"text-align: right;\">\n",
       "      <th></th>\n",
       "      <th>Id</th>\n",
       "      <th>Fecha</th>\n",
       "      <th>Tweet</th>\n",
       "      <th>Usuario</th>\n",
       "      <th>Clasificación</th>\n",
       "    </tr>\n",
       "  </thead>\n",
       "  <tbody>\n",
       "    <tr>\n",
       "      <th>0</th>\n",
       "      <td>3</td>\n",
       "      <td>6/1/2022</td>\n",
       "      <td>Una ultima prueba de cargar tweets</td>\n",
       "      <td>alejandro</td>\n",
       "      <td>Neutro</td>\n",
       "    </tr>\n",
       "    <tr>\n",
       "      <th>1</th>\n",
       "      <td>4</td>\n",
       "      <td>5/31/2022</td>\n",
       "      <td>esta es una prueba de tweet enviado</td>\n",
       "      <td>alejandro</td>\n",
       "      <td>Neutro</td>\n",
       "    </tr>\n",
       "    <tr>\n",
       "      <th>2</th>\n",
       "      <td>11</td>\n",
       "      <td>3/3/2022</td>\n",
       "      <td>hola profe</td>\n",
       "      <td>miusuario</td>\n",
       "      <td>Neutro</td>\n",
       "    </tr>\n",
       "    <tr>\n",
       "      <th>3</th>\n",
       "      <td>47</td>\n",
       "      <td>6/13/2022</td>\n",
       "      <td>La FAA ha autorizado a SpaceX a utilizar su pu...</td>\n",
       "      <td>Guido de Caso :rocket:</td>\n",
       "      <td>Neutro</td>\n",
       "    </tr>\n",
       "    <tr>\n",
       "      <th>4</th>\n",
       "      <td>62</td>\n",
       "      <td>6/13/2022</td>\n",
       "      <td>Es de las conspiranoicas,de las que creen que ...</td>\n",
       "      <td>:sparkles::cherryblossom:  :cherryblossom::spa...</td>\n",
       "      <td>Positivo</td>\n",
       "    </tr>\n",
       "    <tr>\n",
       "      <th>...</th>\n",
       "      <td>...</td>\n",
       "      <td>...</td>\n",
       "      <td>...</td>\n",
       "      <td>...</td>\n",
       "      <td>...</td>\n",
       "    </tr>\n",
       "    <tr>\n",
       "      <th>2058</th>\n",
       "      <td>6704</td>\n",
       "      <td>6/21/2022</td>\n",
       "      <td>#felizlunes yo pienso que es posible para las ...</td>\n",
       "      <td>lfinanciera1</td>\n",
       "      <td>Neutro</td>\n",
       "    </tr>\n",
       "    <tr>\n",
       "      <th>2059</th>\n",
       "      <td>6706</td>\n",
       "      <td>6/21/2022</td>\n",
       "      <td>hija transgénero de elon musk xavier musk soli...</td>\n",
       "      <td>elimparcialcom</td>\n",
       "      <td>Neutro</td>\n",
       "    </tr>\n",
       "    <tr>\n",
       "      <th>2060</th>\n",
       "      <td>6728</td>\n",
       "      <td>6/21/2022</td>\n",
       "      <td>twitter fue comprado por elon musk y ahora cam...</td>\n",
       "      <td>hwamystar</td>\n",
       "      <td>Neutro</td>\n",
       "    </tr>\n",
       "    <tr>\n",
       "      <th>2061</th>\n",
       "      <td>6731</td>\n",
       "      <td>6/21/2022</td>\n",
       "      <td>urge ver este tipo de noticias inundar la web ...</td>\n",
       "      <td>yurak</td>\n",
       "      <td>Negativo</td>\n",
       "    </tr>\n",
       "    <tr>\n",
       "      <th>2062</th>\n",
       "      <td>6736</td>\n",
       "      <td>6/21/2022</td>\n",
       "      <td>elon musk dijo q en tuiter iba a ver libertad ...</td>\n",
       "      <td>elsamartnez17</td>\n",
       "      <td>Negativo</td>\n",
       "    </tr>\n",
       "  </tbody>\n",
       "</table>\n",
       "<p>2063 rows × 5 columns</p>\n",
       "</div>"
      ],
      "text/plain": [
       "        Id      Fecha                                              Tweet  \\\n",
       "0        3   6/1/2022                 Una ultima prueba de cargar tweets   \n",
       "1        4  5/31/2022                esta es una prueba de tweet enviado   \n",
       "2       11   3/3/2022                                         hola profe   \n",
       "3       47  6/13/2022  La FAA ha autorizado a SpaceX a utilizar su pu...   \n",
       "4       62  6/13/2022  Es de las conspiranoicas,de las que creen que ...   \n",
       "...    ...        ...                                                ...   \n",
       "2058  6704  6/21/2022  #felizlunes yo pienso que es posible para las ...   \n",
       "2059  6706  6/21/2022  hija transgénero de elon musk xavier musk soli...   \n",
       "2060  6728  6/21/2022  twitter fue comprado por elon musk y ahora cam...   \n",
       "2061  6731  6/21/2022  urge ver este tipo de noticias inundar la web ...   \n",
       "2062  6736  6/21/2022  elon musk dijo q en tuiter iba a ver libertad ...   \n",
       "\n",
       "                                                Usuario Clasificación  \n",
       "0                                             alejandro        Neutro  \n",
       "1                                             alejandro        Neutro  \n",
       "2                                             miusuario        Neutro  \n",
       "3                                Guido de Caso :rocket:        Neutro  \n",
       "4     :sparkles::cherryblossom:  :cherryblossom::spa...      Positivo  \n",
       "...                                                 ...           ...  \n",
       "2058                                       lfinanciera1        Neutro  \n",
       "2059                                     elimparcialcom        Neutro  \n",
       "2060                                          hwamystar        Neutro  \n",
       "2061                                              yurak      Negativo  \n",
       "2062                                      elsamartnez17      Negativo  \n",
       "\n",
       "[2063 rows x 5 columns]"
      ]
     },
     "execution_count": 2,
     "metadata": {},
     "output_type": "execute_result"
    }
   ],
   "source": [
    "df = pd.read_csv('tweets.csv',encoding='latin-1')\n",
    "df"
   ]
  },
  {
   "cell_type": "code",
   "execution_count": 3,
   "id": "c7d2dd84",
   "metadata": {},
   "outputs": [
    {
     "data": {
      "text/html": [
       "<div>\n",
       "<style scoped>\n",
       "    .dataframe tbody tr th:only-of-type {\n",
       "        vertical-align: middle;\n",
       "    }\n",
       "\n",
       "    .dataframe tbody tr th {\n",
       "        vertical-align: top;\n",
       "    }\n",
       "\n",
       "    .dataframe thead th {\n",
       "        text-align: right;\n",
       "    }\n",
       "</style>\n",
       "<table border=\"1\" class=\"dataframe\">\n",
       "  <thead>\n",
       "    <tr style=\"text-align: right;\">\n",
       "      <th></th>\n",
       "      <th>Tweet</th>\n",
       "      <th>Clasificación</th>\n",
       "    </tr>\n",
       "  </thead>\n",
       "  <tbody>\n",
       "    <tr>\n",
       "      <th>0</th>\n",
       "      <td>Una ultima prueba de cargar tweets</td>\n",
       "      <td>Neutro</td>\n",
       "    </tr>\n",
       "    <tr>\n",
       "      <th>1</th>\n",
       "      <td>esta es una prueba de tweet enviado</td>\n",
       "      <td>Neutro</td>\n",
       "    </tr>\n",
       "    <tr>\n",
       "      <th>2</th>\n",
       "      <td>hola profe</td>\n",
       "      <td>Neutro</td>\n",
       "    </tr>\n",
       "    <tr>\n",
       "      <th>3</th>\n",
       "      <td>La FAA ha autorizado a SpaceX a utilizar su pu...</td>\n",
       "      <td>Neutro</td>\n",
       "    </tr>\n",
       "    <tr>\n",
       "      <th>4</th>\n",
       "      <td>Es de las conspiranoicas,de las que creen que ...</td>\n",
       "      <td>Positivo</td>\n",
       "    </tr>\n",
       "    <tr>\n",
       "      <th>...</th>\n",
       "      <td>...</td>\n",
       "      <td>...</td>\n",
       "    </tr>\n",
       "    <tr>\n",
       "      <th>2058</th>\n",
       "      <td>#felizlunes yo pienso que es posible para las ...</td>\n",
       "      <td>Neutro</td>\n",
       "    </tr>\n",
       "    <tr>\n",
       "      <th>2059</th>\n",
       "      <td>hija transgénero de elon musk xavier musk soli...</td>\n",
       "      <td>Neutro</td>\n",
       "    </tr>\n",
       "    <tr>\n",
       "      <th>2060</th>\n",
       "      <td>twitter fue comprado por elon musk y ahora cam...</td>\n",
       "      <td>Neutro</td>\n",
       "    </tr>\n",
       "    <tr>\n",
       "      <th>2061</th>\n",
       "      <td>urge ver este tipo de noticias inundar la web ...</td>\n",
       "      <td>Negativo</td>\n",
       "    </tr>\n",
       "    <tr>\n",
       "      <th>2062</th>\n",
       "      <td>elon musk dijo q en tuiter iba a ver libertad ...</td>\n",
       "      <td>Negativo</td>\n",
       "    </tr>\n",
       "  </tbody>\n",
       "</table>\n",
       "<p>2063 rows × 2 columns</p>\n",
       "</div>"
      ],
      "text/plain": [
       "                                                  Tweet Clasificación\n",
       "0                    Una ultima prueba de cargar tweets        Neutro\n",
       "1                   esta es una prueba de tweet enviado        Neutro\n",
       "2                                            hola profe        Neutro\n",
       "3     La FAA ha autorizado a SpaceX a utilizar su pu...        Neutro\n",
       "4     Es de las conspiranoicas,de las que creen que ...      Positivo\n",
       "...                                                 ...           ...\n",
       "2058  #felizlunes yo pienso que es posible para las ...        Neutro\n",
       "2059  hija transgénero de elon musk xavier musk soli...        Neutro\n",
       "2060  twitter fue comprado por elon musk y ahora cam...        Neutro\n",
       "2061  urge ver este tipo de noticias inundar la web ...      Negativo\n",
       "2062  elon musk dijo q en tuiter iba a ver libertad ...      Negativo\n",
       "\n",
       "[2063 rows x 2 columns]"
      ]
     },
     "execution_count": 3,
     "metadata": {},
     "output_type": "execute_result"
    }
   ],
   "source": [
    "df1=df.loc[:,['Tweet','Clasificación']]\n",
    "df1"
   ]
  },
  {
   "cell_type": "code",
   "execution_count": 4,
   "id": "5e0d95a1",
   "metadata": {},
   "outputs": [
    {
     "data": {
      "text/plain": [
       "Neutro      1102\n",
       "Positivo     487\n",
       "Negativo     474\n",
       "Name: Clasificación, dtype: int64"
      ]
     },
     "execution_count": 4,
     "metadata": {},
     "output_type": "execute_result"
    }
   ],
   "source": [
    "df1[\"Clasificación\"].value_counts()"
   ]
  },
  {
   "cell_type": "code",
   "execution_count": 5,
   "id": "1e0b95c8",
   "metadata": {},
   "outputs": [
    {
     "data": {
      "text/html": [
       "<div>\n",
       "<style scoped>\n",
       "    .dataframe tbody tr th:only-of-type {\n",
       "        vertical-align: middle;\n",
       "    }\n",
       "\n",
       "    .dataframe tbody tr th {\n",
       "        vertical-align: top;\n",
       "    }\n",
       "\n",
       "    .dataframe thead th {\n",
       "        text-align: right;\n",
       "    }\n",
       "</style>\n",
       "<table border=\"1\" class=\"dataframe\">\n",
       "  <thead>\n",
       "    <tr style=\"text-align: right;\">\n",
       "      <th></th>\n",
       "      <th>Tweet</th>\n",
       "      <th>Clasificación</th>\n",
       "    </tr>\n",
       "  </thead>\n",
       "  <tbody>\n",
       "    <tr>\n",
       "      <th>4</th>\n",
       "      <td>Es de las conspiranoicas,de las que creen que ...</td>\n",
       "      <td>Positivo</td>\n",
       "    </tr>\n",
       "    <tr>\n",
       "      <th>5</th>\n",
       "      <td>si elon musk saca un chip neuronal ME LO VOY A...</td>\n",
       "      <td>Positivo</td>\n",
       "    </tr>\n",
       "    <tr>\n",
       "      <th>6</th>\n",
       "      <td>elon Musk t odio m debes 5 de hachís</td>\n",
       "      <td>Negativo</td>\n",
       "    </tr>\n",
       "    <tr>\n",
       "      <th>8</th>\n",
       "      <td>lo siento twitter era un chiste aunque nose si...</td>\n",
       "      <td>Negativo</td>\n",
       "    </tr>\n",
       "    <tr>\n",
       "      <th>9</th>\n",
       "      <td>Tras lo sucedido con la IA de Google, nuevamen...</td>\n",
       "      <td>Positivo</td>\n",
       "    </tr>\n",
       "    <tr>\n",
       "      <th>...</th>\n",
       "      <td>...</td>\n",
       "      <td>...</td>\n",
       "    </tr>\n",
       "    <tr>\n",
       "      <th>2054</th>\n",
       "      <td>rt elon musk se enfrenta a una demanda de us 2...</td>\n",
       "      <td>Negativo</td>\n",
       "    </tr>\n",
       "    <tr>\n",
       "      <th>2055</th>\n",
       "      <td>elon regalame un tesla porfa</td>\n",
       "      <td>Positivo</td>\n",
       "    </tr>\n",
       "    <tr>\n",
       "      <th>2056</th>\n",
       "      <td>yaningnoviecita deskansa en paz elon musk no t...</td>\n",
       "      <td>Negativo</td>\n",
       "    </tr>\n",
       "    <tr>\n",
       "      <th>2061</th>\n",
       "      <td>urge ver este tipo de noticias inundar la web ...</td>\n",
       "      <td>Negativo</td>\n",
       "    </tr>\n",
       "    <tr>\n",
       "      <th>2062</th>\n",
       "      <td>elon musk dijo q en tuiter iba a ver libertad ...</td>\n",
       "      <td>Negativo</td>\n",
       "    </tr>\n",
       "  </tbody>\n",
       "</table>\n",
       "<p>961 rows × 2 columns</p>\n",
       "</div>"
      ],
      "text/plain": [
       "                                                  Tweet Clasificación\n",
       "4     Es de las conspiranoicas,de las que creen que ...      Positivo\n",
       "5     si elon musk saca un chip neuronal ME LO VOY A...      Positivo\n",
       "6                  elon Musk t odio m debes 5 de hachís      Negativo\n",
       "8     lo siento twitter era un chiste aunque nose si...      Negativo\n",
       "9     Tras lo sucedido con la IA de Google, nuevamen...      Positivo\n",
       "...                                                 ...           ...\n",
       "2054  rt elon musk se enfrenta a una demanda de us 2...      Negativo\n",
       "2055                       elon regalame un tesla porfa      Positivo\n",
       "2056  yaningnoviecita deskansa en paz elon musk no t...      Negativo\n",
       "2061  urge ver este tipo de noticias inundar la web ...      Negativo\n",
       "2062  elon musk dijo q en tuiter iba a ver libertad ...      Negativo\n",
       "\n",
       "[961 rows x 2 columns]"
      ]
     },
     "execution_count": 5,
     "metadata": {},
     "output_type": "execute_result"
    }
   ],
   "source": [
    "df2 =  df1[df1[\"Clasificación\"]!=\"Neutro\"]\n",
    "df2"
   ]
  },
  {
   "cell_type": "code",
   "execution_count": 6,
   "id": "5e966898",
   "metadata": {},
   "outputs": [
    {
     "data": {
      "text/plain": [
       "4    [es, de, las, conspiranoicasde, las, que, cree...\n",
       "5    [si, elon, musk, saca, un, chip, neuronal, me,...\n",
       "6       [elon, musk, t, odio, m, debes, 5, de, hachís]\n",
       "8    [lo, siento, twitter, era, un, chiste, aunque,...\n",
       "9    [tras, lo, sucedido, con, la, ia, de, google, ...\n",
       "Name: Tweet, dtype: object"
      ]
     },
     "execution_count": 6,
     "metadata": {},
     "output_type": "execute_result"
    }
   ],
   "source": [
    "import string\n",
    "punctuation = set(string.punctuation)\n",
    "def tokenize(sentence):\n",
    "    tokens = []\n",
    "    for token in sentence.split():\n",
    "        new_token = []\n",
    "        for character in token:\n",
    "            if character not in punctuation:\n",
    "                new_token.append(character.lower())\n",
    "        if new_token:\n",
    "            tokens.append(\"\".join(new_token))\n",
    "    return tokens\n",
    "df2.head()[\"Tweet\"].apply(tokenize)"
   ]
  },
  {
   "cell_type": "code",
   "execution_count": 7,
   "id": "5482b450",
   "metadata": {},
   "outputs": [],
   "source": [
    "from sklearn.feature_extraction.text import CountVectorizer\n",
    "demo_vectorizer = CountVectorizer(\n",
    "    tokenizer = tokenize,\n",
    "    binary = True\n",
    ")"
   ]
  },
  {
   "cell_type": "code",
   "execution_count": null,
   "id": "b6d74e0e",
   "metadata": {},
   "outputs": [],
   "source": []
  },
  {
   "cell_type": "code",
   "execution_count": 8,
   "id": "6389e0c8",
   "metadata": {},
   "outputs": [
    {
     "name": "stdout",
     "output_type": "stream",
     "text": [
      "Training examples: 720, testing examples 241\n"
     ]
    }
   ],
   "source": [
    "from sklearn.model_selection import train_test_split\n",
    "X_train,X_test,y_train,y_test=train_test_split(df2[\"Tweet\"], df2[\"Clasificación\"], stratify=df2[\"Clasificación\"])\n",
    "print(f\"Training examples: {len(X_train)}, testing examples {len(X_test)}\")"
   ]
  },
  {
   "cell_type": "code",
   "execution_count": 9,
   "id": "07c5228f",
   "metadata": {},
   "outputs": [
    {
     "data": {
      "text/plain": [
       "1230    le deseo muchos exitos en la empresa por conse...\n",
       "1963    demandan a elon musk con 258 000 mdd por esque...\n",
       "1103    Elon musk significa \"hijo de la luz\"\\n\\nPara t...\n",
       "1492     Este debe estar en alguno de los satélites qu...\n",
       "182     una fila de luces se vera en el cielo y elon m...\n",
       "                              ...                        \n",
       "896     #BMW PROBARÁ LA BATERIA AVANZADA DE ONE EN SU ...\n",
       "648     Te amo Elon musk  heart_on_fire  https://t.co/...\n",
       "129     Dogecoin ha caído más del 90 desde que Elon Mu...\n",
       "1747    ElonMusk no sabe perder Aplica la de noigo noi...\n",
       "1743    ¡O trabajas en la oficina o buscas trabajo! Es...\n",
       "Name: Tweet, Length: 720, dtype: object"
      ]
     },
     "execution_count": 9,
     "metadata": {},
     "output_type": "execute_result"
    }
   ],
   "source": [
    "X_train"
   ]
  },
  {
   "cell_type": "code",
   "execution_count": 10,
   "id": "536e8ada",
   "metadata": {},
   "outputs": [
    {
     "data": {
      "text/plain": [
       "1155    #FraseDelDía :El mayor fallo que he cometido (...\n",
       "1090               viste boluda ya dije elon musk me odia\n",
       "1532    Cuando el filtro que te pone triste cuando son...\n",
       "1116    #Tesla recortará parte de su plantilla de trab...\n",
       "783      Exijo que Elon Musk ponga el \"Me divierte:, e...\n",
       "                              ...                        \n",
       "938       Osea que si tú tienes los padres de Jeff Bez...\n",
       "1621    :DE NIÑO NERD DE SUDÁFRICA A SER EL HOMBRE MAS...\n",
       "1123    iba a usar una block chain en la cuenta de elo...\n",
       "1898                                   elonmusk hello sir\n",
       "1775    SpaceNosey SpaceX elonmusk SpaceX debe separar...\n",
       "Name: Tweet, Length: 241, dtype: object"
      ]
     },
     "execution_count": 10,
     "metadata": {},
     "output_type": "execute_result"
    }
   ],
   "source": [
    "X_test"
   ]
  },
  {
   "cell_type": "code",
   "execution_count": 11,
   "id": "dc86ba11",
   "metadata": {},
   "outputs": [],
   "source": [
    "real_vectorizer = CountVectorizer(tokenizer = tokenize, binary=True)\n",
    "train_X = real_vectorizer.fit_transform(X_train)\n",
    "test_X = real_vectorizer.transform(X_test)"
   ]
  },
  {
   "cell_type": "code",
   "execution_count": 12,
   "id": "cc002fb4",
   "metadata": {},
   "outputs": [
    {
     "data": {
      "text/plain": [
       "LinearSVC()"
      ]
     },
     "execution_count": 12,
     "metadata": {},
     "output_type": "execute_result"
    }
   ],
   "source": [
    "from sklearn.svm import LinearSVC\n",
    "classifier = LinearSVC()\n",
    "classifier.fit(train_X, y_train)\n",
    "LinearSVC(C=1.0, class_weight=None, dual=True, fit_intercept=True,\n",
    "          intercept_scaling=1, loss='squared_hinge', max_iter=1000,\n",
    "          multi_class='ovr', penalty='l2', random_state=None, tol=0.0001,\n",
    "          verbose=0)"
   ]
  },
  {
   "cell_type": "code",
   "execution_count": 13,
   "id": "b6d2a22e",
   "metadata": {},
   "outputs": [
    {
     "name": "stdout",
     "output_type": "stream",
     "text": [
      "Accuracy: 68.8797%\n"
     ]
    }
   ],
   "source": [
    "from sklearn.metrics import accuracy_score\n",
    "predicciones = classifier.predict(test_X)\n",
    "accuracy = accuracy_score(y_test, predicciones)\n",
    "print(f\"Accuracy: {accuracy:.4%}\")"
   ]
  },
  {
   "cell_type": "code",
   "execution_count": 14,
   "id": "a6f8a668",
   "metadata": {},
   "outputs": [],
   "source": [
    "#VotingClassifier\n",
    "#Regresión Logística + Ridge\n",
    "ridge=linear_model.LogisticRegression(max_iter= 20000,penalty='l2',fit_intercept=True, random_state=123)\n",
    "#kNN\n",
    "knn=KNeighborsClassifier()\n",
    "#Árbol\n",
    "tree=DecisionTreeClassifier(random_state=123)\n",
    "#SMV\n",
    "svm=SVC( random_state=123, probability=True)\n"
   ]
  },
  {
   "cell_type": "code",
   "execution_count": 15,
   "id": "370fa901",
   "metadata": {},
   "outputs": [
    {
     "name": "stdout",
     "output_type": "stream",
     "text": [
      "AC:  0.6556016597510373\n",
      "AC:  0.5726141078838174\n",
      "AC:  0.6721991701244814\n",
      "AC:  0.6348547717842323\n"
     ]
    }
   ],
   "source": [
    "modelos_lista=(ridge, knn, tree, svm)\n",
    "\n",
    "for modelo in modelos_lista:\n",
    "    modelo.fit(train_X,y_train)\n",
    "    AC=modelo.score(test_X,y_test)\n",
    "    print(\"AC: \",AC)"
   ]
  },
  {
   "cell_type": "code",
   "execution_count": 16,
   "id": "3a362d5d",
   "metadata": {},
   "outputs": [
    {
     "name": "stdout",
     "output_type": "stream",
     "text": [
      "AC_votacion:  0.6763485477178424\n"
     ]
    }
   ],
   "source": [
    "from sklearn.ensemble import VotingClassifier\n",
    "modelos=[('ridge',ridge),('knn',knn),('arbol',tree),('svm',svm)]\n",
    "votacion=VotingClassifier(estimators=modelos,voting='soft',n_jobs=-1, weights=[2,1,3,1])\n",
    "votacion.fit(train_X, y_train)\n",
    "AC_votacion=votacion.score(test_X,y_test)\n",
    "print(\"AC_votacion: \",AC_votacion)"
   ]
  },
  {
   "cell_type": "code",
   "execution_count": 17,
   "id": "06006e82",
   "metadata": {},
   "outputs": [
    {
     "data": {
      "text/plain": [
       "0.6597510373443983"
      ]
     },
     "execution_count": 17,
     "metadata": {},
     "output_type": "execute_result"
    }
   ],
   "source": [
    "#Creamos el modelo Extremely Randomized Trees\n",
    "from sklearn.ensemble import ExtraTreesClassifier\n",
    "etc=ExtraTreesClassifier(n_estimators=300,n_jobs=-1,random_state=123)\n",
    "etc.fit(train_X, y_train)\n",
    "etc.score(test_X,y_test)"
   ]
  },
  {
   "cell_type": "code",
   "execution_count": 18,
   "id": "c22e3e74",
   "metadata": {},
   "outputs": [
    {
     "data": {
      "text/plain": [
       "GridSearchCV(cv=5, estimator=ExtraTreesClassifier(n_jobs=-1, random_state=123),\n",
       "             n_jobs=-1, param_grid={'n_estimators': [100, 200, 400, 800, 1600]},\n",
       "             return_train_score=True)"
      ]
     },
     "execution_count": 18,
     "metadata": {},
     "output_type": "execute_result"
    }
   ],
   "source": [
    "#GridSearchCV\n",
    "from sklearn.model_selection import GridSearchCV\n",
    "\n",
    "etc1=ExtraTreesClassifier(n_jobs=-1,random_state=123)\n",
    "grid_etc1= GridSearchCV(estimator=etc1, param_grid={'n_estimators':[100,200,400,800,1600]}, cv=5,n_jobs=-1, return_train_score=True)\n",
    "\n",
    "grid_etc1.fit(train_X,y_train)"
   ]
  },
  {
   "cell_type": "code",
   "execution_count": 19,
   "id": "83fe9736",
   "metadata": {},
   "outputs": [
    {
     "data": {
      "text/plain": [
       "0.6791666666666667"
      ]
     },
     "execution_count": 19,
     "metadata": {},
     "output_type": "execute_result"
    }
   ],
   "source": [
    "ACGrid=grid_etc1.best_score_\n",
    "ACGrid"
   ]
  },
  {
   "cell_type": "code",
   "execution_count": 20,
   "id": "59ec0e9e",
   "metadata": {},
   "outputs": [
    {
     "data": {
      "text/plain": [
       "0.6763485477178424"
      ]
     },
     "execution_count": 20,
     "metadata": {},
     "output_type": "execute_result"
    }
   ],
   "source": [
    "#Random Forest\n",
    "from sklearn.ensemble import RandomForestClassifier\n",
    "rf=RandomForestClassifier(n_estimators=300,n_jobs=-1,random_state=123)\n",
    "rf.fit(train_X, y_train)\n",
    "rf.score(test_X,y_test)"
   ]
  },
  {
   "cell_type": "code",
   "execution_count": 21,
   "id": "eda93df8",
   "metadata": {},
   "outputs": [
    {
     "data": {
      "text/plain": [
       "{'n_estimators': 1000}"
      ]
     },
     "execution_count": 21,
     "metadata": {},
     "output_type": "execute_result"
    }
   ],
   "source": [
    "rf1=RandomForestClassifier(n_jobs=-1,random_state=123)\n",
    "grid_rf1= GridSearchCV(estimator=rf1, param_grid={'n_estimators':[200,400,600,800,1000]}, \n",
    "                       cv=5,n_jobs=-1, return_train_score=True)\n",
    "grid_rf1.fit(train_X,y_train)\n",
    "ACrf=grid_rf1.best_score_\n",
    "ACrf\n",
    "grid_rf1.best_params_"
   ]
  },
  {
   "cell_type": "code",
   "execution_count": 22,
   "id": "bd1bf9a4",
   "metadata": {},
   "outputs": [
    {
     "data": {
      "text/plain": [
       "0.6666666666666667"
      ]
     },
     "execution_count": 22,
     "metadata": {},
     "output_type": "execute_result"
    }
   ],
   "source": [
    "ACrf"
   ]
  },
  {
   "cell_type": "code",
   "execution_count": 23,
   "id": "2bf6ca98",
   "metadata": {},
   "outputs": [
    {
     "data": {
      "text/html": [
       "<div>\n",
       "<style scoped>\n",
       "    .dataframe tbody tr th:only-of-type {\n",
       "        vertical-align: middle;\n",
       "    }\n",
       "\n",
       "    .dataframe tbody tr th {\n",
       "        vertical-align: top;\n",
       "    }\n",
       "\n",
       "    .dataframe thead th {\n",
       "        text-align: right;\n",
       "    }\n",
       "</style>\n",
       "<table border=\"1\" class=\"dataframe\">\n",
       "  <thead>\n",
       "    <tr style=\"text-align: right;\">\n",
       "      <th></th>\n",
       "      <th>Tweet</th>\n",
       "      <th>Clasificación</th>\n",
       "    </tr>\n",
       "  </thead>\n",
       "  <tbody>\n",
       "    <tr>\n",
       "      <th>0</th>\n",
       "      <td>Una ultima prueba de cargar tweets</td>\n",
       "      <td>Neutro</td>\n",
       "    </tr>\n",
       "    <tr>\n",
       "      <th>1</th>\n",
       "      <td>esta es una prueba de tweet enviado</td>\n",
       "      <td>Neutro</td>\n",
       "    </tr>\n",
       "    <tr>\n",
       "      <th>2</th>\n",
       "      <td>hola profe</td>\n",
       "      <td>Neutro</td>\n",
       "    </tr>\n",
       "    <tr>\n",
       "      <th>3</th>\n",
       "      <td>La FAA ha autorizado a SpaceX a utilizar su pu...</td>\n",
       "      <td>Neutro</td>\n",
       "    </tr>\n",
       "    <tr>\n",
       "      <th>4</th>\n",
       "      <td>Es de las conspiranoicas,de las que creen que ...</td>\n",
       "      <td>Positivo</td>\n",
       "    </tr>\n",
       "    <tr>\n",
       "      <th>...</th>\n",
       "      <td>...</td>\n",
       "      <td>...</td>\n",
       "    </tr>\n",
       "    <tr>\n",
       "      <th>2058</th>\n",
       "      <td>#felizlunes yo pienso que es posible para las ...</td>\n",
       "      <td>Neutro</td>\n",
       "    </tr>\n",
       "    <tr>\n",
       "      <th>2059</th>\n",
       "      <td>hija transgénero de elon musk xavier musk soli...</td>\n",
       "      <td>Neutro</td>\n",
       "    </tr>\n",
       "    <tr>\n",
       "      <th>2060</th>\n",
       "      <td>twitter fue comprado por elon musk y ahora cam...</td>\n",
       "      <td>Neutro</td>\n",
       "    </tr>\n",
       "    <tr>\n",
       "      <th>2061</th>\n",
       "      <td>urge ver este tipo de noticias inundar la web ...</td>\n",
       "      <td>Negativo</td>\n",
       "    </tr>\n",
       "    <tr>\n",
       "      <th>2062</th>\n",
       "      <td>elon musk dijo q en tuiter iba a ver libertad ...</td>\n",
       "      <td>Negativo</td>\n",
       "    </tr>\n",
       "  </tbody>\n",
       "</table>\n",
       "<p>2063 rows × 2 columns</p>\n",
       "</div>"
      ],
      "text/plain": [
       "                                                  Tweet Clasificación\n",
       "0                    Una ultima prueba de cargar tweets        Neutro\n",
       "1                   esta es una prueba de tweet enviado        Neutro\n",
       "2                                            hola profe        Neutro\n",
       "3     La FAA ha autorizado a SpaceX a utilizar su pu...        Neutro\n",
       "4     Es de las conspiranoicas,de las que creen que ...      Positivo\n",
       "...                                                 ...           ...\n",
       "2058  #felizlunes yo pienso que es posible para las ...        Neutro\n",
       "2059  hija transgénero de elon musk xavier musk soli...        Neutro\n",
       "2060  twitter fue comprado por elon musk y ahora cam...        Neutro\n",
       "2061  urge ver este tipo de noticias inundar la web ...      Negativo\n",
       "2062  elon musk dijo q en tuiter iba a ver libertad ...      Negativo\n",
       "\n",
       "[2063 rows x 2 columns]"
      ]
     },
     "execution_count": 23,
     "metadata": {},
     "output_type": "execute_result"
    }
   ],
   "source": [
    "df3 = pd.read_csv('sin clasificar.csv',encoding='latin-1')\n",
    "df3 = df.loc[:,['Tweet','Clasificación']]\n",
    "df3"
   ]
  },
  {
   "cell_type": "code",
   "execution_count": 24,
   "id": "decbc936",
   "metadata": {},
   "outputs": [
    {
     "data": {
      "text/plain": [
       "0            [una, ultima, prueba, de, cargar, tweets]\n",
       "1          [esta, es, una, prueba, de, tweet, enviado]\n",
       "2                                        [hola, profe]\n",
       "3    [la, faa, ha, autorizado, a, spacex, a, utiliz...\n",
       "4    [es, de, las, conspiranoicasde, las, que, cree...\n",
       "Name: Tweet, dtype: object"
      ]
     },
     "execution_count": 24,
     "metadata": {},
     "output_type": "execute_result"
    }
   ],
   "source": [
    "\n",
    "import string\n",
    "punctuation = set(string.punctuation)\n",
    "def tokenize(sentence):\n",
    "    tokens = []\n",
    "    for token in sentence.split():\n",
    "        new_token = []\n",
    "        for character in token:\n",
    "            if character not in punctuation:\n",
    "                new_token.append(character.lower())\n",
    "        if new_token:\n",
    "            tokens.append(\"\".join(new_token))\n",
    "    return tokens\n",
    "df3.head()[\"Tweet\"].apply(tokenize)"
   ]
  },
  {
   "cell_type": "code",
   "execution_count": null,
   "id": "c8cb332d",
   "metadata": {},
   "outputs": [],
   "source": [
    "predicciones = classifier.predict(test_X)\n",
    "accuracy = accuracy_score(y_test, predicciones)\n",
    "print(f\"Accuracy: {accuracy:.4%}\")"
   ]
  },
  {
   "cell_type": "code",
   "execution_count": null,
   "id": "468a19a2",
   "metadata": {},
   "outputs": [],
   "source": [
    "\n"
   ]
  },
  {
   "cell_type": "code",
   "execution_count": null,
   "id": "f6cdbfea",
   "metadata": {},
   "outputs": [],
   "source": [
    "\n"
   ]
  },
  {
   "cell_type": "code",
   "execution_count": null,
   "id": "60053966",
   "metadata": {},
   "outputs": [],
   "source": []
  },
  {
   "cell_type": "code",
   "execution_count": null,
   "id": "0aa70e59",
   "metadata": {},
   "outputs": [],
   "source": []
  },
  {
   "cell_type": "code",
   "execution_count": null,
   "id": "4763f645",
   "metadata": {},
   "outputs": [],
   "source": []
  },
  {
   "cell_type": "code",
   "execution_count": null,
   "id": "3e527fb2",
   "metadata": {},
   "outputs": [],
   "source": []
  },
  {
   "cell_type": "code",
   "execution_count": null,
   "id": "554c571a",
   "metadata": {},
   "outputs": [],
   "source": []
  }
 ],
 "metadata": {
  "kernelspec": {
   "display_name": "Python 3 (ipykernel)",
   "language": "python",
   "name": "python3"
  },
  "language_info": {
   "codemirror_mode": {
    "name": "ipython",
    "version": 3
   },
   "file_extension": ".py",
   "mimetype": "text/x-python",
   "name": "python",
   "nbconvert_exporter": "python",
   "pygments_lexer": "ipython3",
   "version": "3.9.7"
  }
 },
 "nbformat": 4,
 "nbformat_minor": 5
}
